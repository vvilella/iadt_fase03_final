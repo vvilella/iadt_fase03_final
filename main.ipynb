{
 "cells": [
  {
   "cell_type": "code",
   "execution_count": 1,
   "id": "c5e92940",
   "metadata": {},
   "outputs": [
    {
     "name": "stdout",
     "output_type": "stream",
     "text": [
      "OK: paths prontos\n"
     ]
    }
   ],
   "source": [
    "import os, math, json, random, pathlib\n",
    "from typing import Iterable, Dict, Any, Tuple\n",
    "\n",
    "DATA_DIR = \"data\"\n",
    "TRN_PATH = os.path.join(DATA_DIR, \"trn.json\")\n",
    "TST_PATH = os.path.join(DATA_DIR, \"tst.json\")  # usamos p/ test\n",
    "OUT_DIR = DATA_DIR\n",
    "\n",
    "# parâmetros ajustáveis\n",
    "SAMPLE_TRAIN = 50_000   # amostra do trn para treinar rápido (ajuste p/ 10k–100k)\n",
    "VAL_RATIO    = 0.03     # 3% para validação\n",
    "TEST_SAMPLE  = 5_000    # amostra do tst (0 = converter tudo)\n",
    "SEED         = 42\n",
    "\n",
    "PROMPT_TEMPLATE = (\n",
    "    \"Given a product title, generate its product description.\\n\"\n",
    "    \"Title: {title}\\n\"\n",
    "    \"Description:\"\n",
    ")\n",
    "\n",
    "assert os.path.exists(TRN_PATH), f\"Arquivo não encontrado: {TRN_PATH}\"\n",
    "assert os.path.exists(TST_PATH), f\"Arquivo não encontrado: {TST_PATH}\"\n",
    "pathlib.Path(OUT_DIR).mkdir(parents=True, exist_ok=True)\n",
    "print(\"OK: paths prontos\")\n"
   ]
  },
  {
   "cell_type": "code",
   "execution_count": 3,
   "id": "9b729dc1",
   "metadata": {},
   "outputs": [],
   "source": [
    "import ijson\n",
    "\n",
    "def detect_format(path: str) -> str:\n",
    "    with open(path, \"r\", encoding=\"utf-8\") as f:\n",
    "        head = f.read(2048).lstrip()\n",
    "    return \"array\" if head.startswith(\"[\") else \"jsonl\"\n",
    "\n",
    "def stream_array_items(json_path: str) -> Iterable[Dict[str, Any]]:\n",
    "    with open(json_path, \"r\", encoding=\"utf-8\") as f:\n",
    "        for obj in ijson.items(f, \"item\"):\n",
    "            yield obj\n",
    "\n",
    "def stream_jsonl_lines(jsonl_path: str) -> Iterable[Dict[str, Any]]:\n",
    "    with open(jsonl_path, \"r\", encoding=\"utf-8\") as f:\n",
    "        for line in f:\n",
    "            line = line.strip()\n",
    "            if not line:\n",
    "                continue\n",
    "            try:\n",
    "                yield json.loads(line)\n",
    "            except json.JSONDecodeError:\n",
    "                continue\n",
    "\n",
    "def iter_examples(path: str) -> Iterable[Dict[str, Any]]:\n",
    "    return stream_array_items(path) if detect_format(path) == \"array\" else stream_jsonl_lines(path)\n",
    "\n",
    "def reservoir_sample(iterator: Iterable[Dict[str, Any]], k: int, seed: int = 42) -> list:\n",
    "    rnd = random.Random(seed)\n",
    "    sample = []\n",
    "    for t, item in enumerate(iterator, start=1):\n",
    "        if not isinstance(item, dict):\n",
    "            continue\n",
    "        title = item.get(\"title\")\n",
    "        content = item.get(\"content\")\n",
    "        if not title or not content:\n",
    "            continue\n",
    "        if len(sample) < k:\n",
    "            sample.append({\"title\": title, \"content\": content})\n",
    "        else:\n",
    "            j = rnd.randint(1, t)\n",
    "            if j <= k:\n",
    "                sample[j - 1] = {\"title\": title, \"content\": content}\n",
    "    return sample\n",
    "\n",
    "def split_train_val(rows: list, val_ratio: float = 0.03, seed: int = 42):\n",
    "    rnd = random.Random(seed)\n",
    "    rows = rows.copy()\n",
    "    rnd.shuffle(rows)\n",
    "    n = len(rows)\n",
    "    n_val = max(1, math.floor(n * val_ratio))\n",
    "    n_train = n - n_val\n",
    "    return rows[:n_train], rows[n_train:]\n",
    "\n",
    "def write_jsonl_template(rows: Iterable[Dict[str, str]], out_path: str) -> int:\n",
    "    n = 0\n",
    "    with open(out_path, \"w\", encoding=\"utf-8\") as f:\n",
    "        for row in rows:\n",
    "            title, content = row[\"title\"], row[\"content\"]\n",
    "            rec = {\n",
    "                \"input_text\": PROMPT_TEMPLATE.format(title=title),\n",
    "                \"target_text\": str(content)\n",
    "            }\n",
    "            f.write(json.dumps(rec, ensure_ascii=False) + \"\\n\")\n",
    "            n += 1\n",
    "    return n\n"
   ]
  },
  {
   "cell_type": "code",
   "execution_count": 4,
   "id": "75acbc85",
   "metadata": {},
   "outputs": [
    {
     "name": "stdout",
     "output_type": "stream",
     "text": [
      "Amostrando do TRN... data/trn.json\n",
      "Amostra obtida: 50000\n",
      "Split → train: 48500 | val: 1500\n",
      "Salvo: data/train.jsonl (48500) | data/val.jsonl (1500)\n"
     ]
    }
   ],
   "source": [
    "print(\"Amostrando do TRN...\", TRN_PATH)\n",
    "sample_rows = reservoir_sample(iter_examples(TRN_PATH), k=SAMPLE_TRAIN, seed=SEED)\n",
    "print(f\"Amostra obtida: {len(sample_rows)}\")\n",
    "\n",
    "train_rows, val_rows = split_train_val(sample_rows, val_ratio=VAL_RATIO, seed=SEED)\n",
    "print(f\"Split → train: {len(train_rows)} | val: {len(val_rows)}\")\n",
    "\n",
    "train_path = os.path.join(OUT_DIR, \"train.jsonl\")\n",
    "val_path   = os.path.join(OUT_DIR, \"val.jsonl\")\n",
    "\n",
    "n_train = write_jsonl_template(train_rows, train_path)\n",
    "n_val   = write_jsonl_template(val_rows,   val_path)\n",
    "print(f\"Salvo: {train_path} ({n_train}) | {val_path} ({n_val})\")\n"
   ]
  },
  {
   "cell_type": "code",
   "execution_count": 5,
   "id": "10354f6c",
   "metadata": {},
   "outputs": [
    {
     "name": "stdout",
     "output_type": "stream",
     "text": [
      "Gerando TEST a partir do TST... data/tst.json\n",
      "Salvo: data/test.jsonl (5000)\n"
     ]
    }
   ],
   "source": [
    "test_path = os.path.join(OUT_DIR, \"test.jsonl\")\n",
    "print(\"Gerando TEST a partir do TST...\", TST_PATH)\n",
    "\n",
    "if TEST_SAMPLE and TEST_SAMPLE > 0:\n",
    "    test_rows = reservoir_sample(iter_examples(TST_PATH), k=TEST_SAMPLE, seed=SEED)\n",
    "    n_test = write_jsonl_template(test_rows, test_path)\n",
    "else:\n",
    "    def gen():\n",
    "        for obj in iter_examples(TST_PATH):\n",
    "            title = obj.get(\"title\")\n",
    "            content = obj.get(\"content\")\n",
    "            if title and content:\n",
    "                yield {\"title\": title, \"content\": content}\n",
    "    n_test = write_jsonl_template(gen(), test_path)\n",
    "\n",
    "print(f\"Salvo: {test_path} ({n_test})\")\n"
   ]
  },
  {
   "cell_type": "code",
   "execution_count": 6,
   "id": "d0e1adde",
   "metadata": {},
   "outputs": [
    {
     "name": "stdout",
     "output_type": "stream",
     "text": [
      "---- data/train.jsonl\n",
      "{\"input_text\": \"Given a product title, generate its product description.\\nTitle: GoFit Weightlifting Glove\\nDescription:\", \"target_text\": \"GoFit Diamond-Tac Wei...\n",
      "{\"input_text\": \"Given a product title, generate its product description.\\nTitle: The Bedford Reader with 2009 MLA Update\\nDescription:\", \"target_text\": \"X. J. K...\n",
      "---- data/val.jsonl\n",
      "{\"input_text\": \"Given a product title, generate its product description.\\nTitle: Palmolive 04910 Dishwashing Liquid, 1 gallon Bottle\\nDescription:\", \"target_tex...\n",
      "{\"input_text\": \"Given a product title, generate its product description.\\nTitle: Exceptional Leadership: 16 Critical Competencies for Healthcare Executives\\nDes...\n",
      "---- data/test.jsonl\n",
      "{\"input_text\": \"Given a product title, generate its product description.\\nTitle: Forgive Me, Father: A True Story of a Priest, a Nun, and Brutal Murder\\nDescrip...\n",
      "{\"input_text\": \"Given a product title, generate its product description.\\nTitle: Champion Sports 4 Wheel Umpire Indicator (Grey, Pack of 12 )\\nDescription:\", \"t...\n"
     ]
    }
   ],
   "source": [
    "for name in [\"train\", \"val\", \"test\"]:\n",
    "    p = os.path.join(OUT_DIR, f\"{name}.jsonl\")\n",
    "    print(\"----\", p)\n",
    "    with open(p, \"r\", encoding=\"utf-8\") as f:\n",
    "        for i, line in enumerate(f):\n",
    "            print(line.strip()[:160] + \"...\")\n",
    "            if i >= 1:\n",
    "                break\n"
   ]
  }
 ],
 "metadata": {
  "kernelspec": {
   "display_name": ".venv",
   "language": "python",
   "name": "python3"
  },
  "language_info": {
   "codemirror_mode": {
    "name": "ipython",
    "version": 3
   },
   "file_extension": ".py",
   "mimetype": "text/x-python",
   "name": "python",
   "nbconvert_exporter": "python",
   "pygments_lexer": "ipython3",
   "version": "3.13.3"
  }
 },
 "nbformat": 4,
 "nbformat_minor": 5
}
