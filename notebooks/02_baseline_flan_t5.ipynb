{
 "cells": [
  {
   "cell_type": "markdown",
   "id": "7771f437",
   "metadata": {},
   "source": [
    "# 02 — Baseline com FLAN-T5-base (sem treino)\n",
    "\n",
    "Aqui avaliamos o modelo foundation `google/flan-t5-base` **sem qualquer fine-tuning**.  \n",
    "Usamos um recorte de validação (200 amostras) para medir **ROUGE-L** e **BLEU** e criar um ponto de partida.  \n",
    "O objetivo é entender “quanto o modelo já faz sozinho” antes de qualquer ajuste.\n",
    "\n",
    "**Saída esperada**\n",
    "- `outputs/baseline_val200.jsonl` (entradas, referência e predições do baseline)\n"
   ]
  },
  {
   "cell_type": "code",
   "execution_count": 1,
   "id": "014dadce",
   "metadata": {},
   "outputs": [
    {
     "name": "stdout",
     "output_type": "stream",
     "text": [
      "Note: you may need to restart the kernel to use updated packages.\n",
      "Note: you may need to restart the kernel to use updated packages.\n"
     ]
    }
   ],
   "source": [
    "%pip install -q transformers datasets evaluate rouge-score sacrebleu accelerate torch\n",
    "%pip install -q ipywidgets\n",
    "\n"
   ]
  },
  {
   "cell_type": "code",
   "execution_count": 2,
   "id": "4f6a754d",
   "metadata": {},
   "outputs": [
    {
     "name": "stdout",
     "output_type": "stream",
     "text": [
      "Device: mps\n"
     ]
    }
   ],
   "source": [
    "import os, torch, json\n",
    "from datasets import load_dataset\n",
    "from transformers import AutoTokenizer, AutoModelForSeq2SeqLM\n",
    "\n",
    "DATA_DIR = \"../data\"\n",
    "VAL_PATH = os.path.join(DATA_DIR, \"val.jsonl\")\n",
    "MODEL_NAME = \"google/flan-t5-base\"\n",
    "MAX_INPUT, MAX_GEN = 128, 256\n",
    "\n",
    "device = \"cuda\" if torch.cuda.is_available() else (\"mps\" if torch.backends.mps.is_available() else \"cpu\")\n",
    "print(\"Device:\", device)"
   ]
  },
  {
   "cell_type": "code",
   "execution_count": 3,
   "id": "8f1d7bbc",
   "metadata": {},
   "outputs": [
    {
     "data": {
      "application/vnd.jupyter.widget-view+json": {
       "model_id": "8dbb27bbbe3d425a940dd96d974d6089",
       "version_major": 2,
       "version_minor": 0
      },
      "text/plain": [
       "Generating val split: 0 examples [00:00, ? examples/s]"
      ]
     },
     "metadata": {},
     "output_type": "display_data"
    },
    {
     "data": {
      "text/plain": [
       "200"
      ]
     },
     "execution_count": 3,
     "metadata": {},
     "output_type": "execute_result"
    }
   ],
   "source": [
    "ds = load_dataset(\"json\", data_files={\"val\": VAL_PATH})\n",
    "ds[\"val\"] = ds[\"val\"].shuffle(seed=42)\n",
    "N_SAMPLE = min(200, len(ds[\"val\"]))\n",
    "sample = ds[\"val\"].select(range(N_SAMPLE))\n",
    "len(sample)"
   ]
  },
  {
   "cell_type": "code",
   "execution_count": 4,
   "id": "f17fef3b",
   "metadata": {},
   "outputs": [],
   "source": [
    "tokenizer = AutoTokenizer.from_pretrained(MODEL_NAME)\n",
    "model = AutoModelForSeq2SeqLM.from_pretrained(MODEL_NAME).to(device)\n",
    "model.config.use_cache = True"
   ]
  },
  {
   "cell_type": "code",
   "execution_count": 5,
   "id": "a90cc8fc",
   "metadata": {},
   "outputs": [],
   "source": [
    "def generate_batch(texts, batch_size=8):\n",
    "    preds = []\n",
    "    for i in range(0, len(texts), batch_size):\n",
    "        batch = texts[i:i+batch_size]\n",
    "        enc = tokenizer(batch, return_tensors=\"pt\", padding=True, truncation=True, max_length=MAX_INPUT).to(device)\n",
    "        with torch.no_grad():\n",
    "            out = model.generate(**enc, max_new_tokens=MAX_GEN)\n",
    "        preds.extend(tokenizer.batch_decode(out, skip_special_tokens=True))\n",
    "    return preds"
   ]
  },
  {
   "cell_type": "code",
   "execution_count": 6,
   "id": "16104d77",
   "metadata": {},
   "outputs": [
    {
     "name": "stdout",
     "output_type": "stream",
     "text": [
      "Exemplo:\n",
      "Input: Given a product title, generate its product description.\n",
      "Title: Islandoffer Color Pearl Nail Art Stone Small Wheel Rhine ...\n",
      "Pred : Islandoffer Color Pearl Nail Art Stone Small Wheel Rhinestones Beads ...\n",
      "Ref  : Make your nails look elegance and special,Suitable to use on top of nail polish, UV builder gel, acrylic, etc,Also can be used to decorate your home and furniture, cell phone and mp3 cases, glasses, c ...\n"
     ]
    }
   ],
   "source": [
    "preds = generate_batch(sample[\"input_text\"])\n",
    "refs  = sample[\"target_text\"]\n",
    "\n",
    "print(\"Exemplo:\")\n",
    "print(\"Input:\", sample[0][\"input_text\"][:120], \"...\")\n",
    "print(\"Pred :\", preds[0][:200], \"...\")\n",
    "print(\"Ref  :\", refs[0][:200], \"...\")"
   ]
  },
  {
   "cell_type": "code",
   "execution_count": 7,
   "id": "710ffe8a",
   "metadata": {},
   "outputs": [
    {
     "name": "stdout",
     "output_type": "stream",
     "text": [
      "ROUGE-L: 0.1228\n",
      "BLEU: 0.0\n"
     ]
    }
   ],
   "source": [
    "import evaluate\n",
    "rouge = evaluate.load(\"rouge\")\n",
    "bleu  = evaluate.load(\"sacrebleu\")\n",
    "\n",
    "rouge_res = rouge.compute(predictions=preds, references=refs, use_aggregator=True)\n",
    "bleu_res  = bleu.compute(predictions=preds, references=[[r] for r in refs])\n",
    "\n",
    "print(\"ROUGE-L:\", round(rouge_res[\"rougeL\"], 4))\n",
    "print(\"BLEU:\", round(bleu_res[\"score\"], 2))\n"
   ]
  },
  {
   "cell_type": "code",
   "execution_count": 8,
   "id": "77436c81",
   "metadata": {},
   "outputs": [
    {
     "name": "stdout",
     "output_type": "stream",
     "text": [
      "Baseline salvo em outputs/baseline_val200.jsonl\n"
     ]
    }
   ],
   "source": [
    "os.makedirs(\"../outputs\", exist_ok=True)\n",
    "with open(\"../outputs/baseline_val200.jsonl\", \"w\", encoding=\"utf-8\") as f:\n",
    "    for x, p, r in zip(sample[\"input_text\"], preds, refs):\n",
    "        f.write(json.dumps({\"input\": x, \"pred\": p, \"ref\": r}, ensure_ascii=False) + \"\\n\")\n",
    "print(\"Baseline salvo em outputs/baseline_val200.jsonl\")\n"
   ]
  }
 ],
 "metadata": {
  "kernelspec": {
   "display_name": ".venv",
   "language": "python",
   "name": "python3"
  },
  "language_info": {
   "codemirror_mode": {
    "name": "ipython",
    "version": 3
   },
   "file_extension": ".py",
   "mimetype": "text/x-python",
   "name": "python",
   "nbconvert_exporter": "python",
   "pygments_lexer": "ipython3",
   "version": "3.13.3"
  }
 },
 "nbformat": 4,
 "nbformat_minor": 5
}
