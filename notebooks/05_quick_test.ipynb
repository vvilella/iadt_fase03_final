{
 "cells": [
  {
   "cell_type": "code",
   "execution_count": 2,
   "id": "4fdea24b",
   "metadata": {},
   "outputs": [
    {
     "name": "stdout",
     "output_type": "stream",
     "text": [
      "Samsung Galaxy SmartTag2 is a wireless charging adapter that can be used to charge your smartphone or tablet. It is made of high-quality materials and has a slim design. This smart tag features a magnetic clip that clips into the back of the phone. The case is easy to use and secure.\n"
     ]
    }
   ],
   "source": [
    "import torch\n",
    "from transformers import AutoTokenizer, AutoModelForSeq2SeqLM\n",
    "from peft import PeftModel\n",
    "\n",
    "device = \"mps\" if torch.backends.mps.is_available() else \"cpu\"\n",
    "MODEL_NAME = \"google/flan-t5-base\"\n",
    "tok = AutoTokenizer.from_pretrained(MODEL_NAME)\n",
    "base = AutoModelForSeq2SeqLM.from_pretrained(MODEL_NAME).to(device)\n",
    "model = PeftModel.from_pretrained(base, \"../outputs/t5_lora_best\").to(device)\n",
    "\n",
    "title = \"Samsung Galaxy SmartTag2\"\n",
    "prompt = f\"Given a product title, generate its product description.\\nTitle: {title}\\nDescription:\"\n",
    "enc = tok(prompt, return_tensors=\"pt\", truncation=True, max_length=128).to(device)\n",
    "out = model.generate(**enc, max_new_tokens=224, num_beams=2, repetition_penalty=1.8, no_repeat_ngram_size=3, temperature=0.9, top_p=0.9, do_sample=True)\n",
    "print(tok.decode(out[0], skip_special_tokens=True))"
   ]
  }
 ],
 "metadata": {
  "kernelspec": {
   "display_name": ".venv",
   "language": "python",
   "name": "python3"
  },
  "language_info": {
   "codemirror_mode": {
    "name": "ipython",
    "version": 3
   },
   "file_extension": ".py",
   "mimetype": "text/x-python",
   "name": "python",
   "nbconvert_exporter": "python",
   "pygments_lexer": "ipython3",
   "version": "3.13.3"
  }
 },
 "nbformat": 4,
 "nbformat_minor": 5
}
