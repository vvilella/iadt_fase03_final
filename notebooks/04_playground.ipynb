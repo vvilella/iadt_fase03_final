{
 "cells": [
  {
   "cell_type": "code",
   "execution_count": 2,
   "id": "906cfec0",
   "metadata": {},
   "outputs": [
    {
     "name": "stdout",
     "output_type": "stream",
     "text": [
      "Note: you may need to restart the kernel to use updated packages.\n",
      "mps\n"
     ]
    }
   ],
   "source": [
    "%pip install -q transformers peft ipywidgets torch\n",
    "\n",
    "import torch\n",
    "from transformers import AutoTokenizer, AutoModelForSeq2SeqLM\n",
    "from peft import PeftModel\n",
    "import ipywidgets as widgets\n",
    "from IPython.display import display, Markdown\n",
    "\n",
    "device = \"mps\" if torch.backends.mps.is_available() else \"cpu\"\n",
    "MODEL_NAME = \"google/flan-t5-base\"\n",
    "\n",
    "print(device)\n"
   ]
  },
  {
   "cell_type": "code",
   "execution_count": 3,
   "id": "ef865c4d",
   "metadata": {},
   "outputs": [
    {
     "name": "stdout",
     "output_type": "stream",
     "text": [
      "Modelo fine-tunado carregado\n"
     ]
    }
   ],
   "source": [
    "tok = AutoTokenizer.from_pretrained(MODEL_NAME)\n",
    "base = AutoModelForSeq2SeqLM.from_pretrained(MODEL_NAME).to(device)\n",
    "model = PeftModel.from_pretrained(base, \"../artifacts/t5_lora_best\").to(device)\n",
    "print(\"Modelo fine-tunado carregado\")\n"
   ]
  },
  {
   "cell_type": "code",
   "execution_count": 4,
   "id": "da8e7faa",
   "metadata": {},
   "outputs": [],
   "source": [
    "def generate_description(title, beams=2, temp=0.9, top_p=0.9, rep_penalty=1.8, no_repeat=3):\n",
    "    prompt = f\"Given a product title, generate its product description.\\nTitle: {title}\\nDescription:\"\n",
    "    enc = tok(prompt, return_tensors=\"pt\", truncation=True, max_length=128).to(device)\n",
    "    out = model.generate(\n",
    "        **enc,\n",
    "        max_new_tokens=224,\n",
    "        num_beams=beams,\n",
    "        temperature=temp,\n",
    "        top_p=top_p,\n",
    "        repetition_penalty=rep_penalty,\n",
    "        no_repeat_ngram_size=no_repeat,\n",
    "        do_sample=True,\n",
    "    )\n",
    "    return tok.decode(out[0], skip_special_tokens=True)"
   ]
  },
  {
   "cell_type": "code",
   "execution_count": 6,
   "id": "4e864f38",
   "metadata": {},
   "outputs": [
    {
     "data": {
      "application/vnd.jupyter.widget-view+json": {
       "model_id": "cb6fa320db1f44ab95a34daade8cf6e9",
       "version_major": 2,
       "version_minor": 0
      },
      "text/plain": [
       "Text(value='GoFit Weightlifting Glove', description='Title:', layout=Layout(width='600px'))"
      ]
     },
     "metadata": {},
     "output_type": "display_data"
    },
    {
     "data": {
      "application/vnd.jupyter.widget-view+json": {
       "model_id": "a7c99b1b576642ddbfe9a4f5cd3444cb",
       "version_major": 2,
       "version_minor": 0
      },
      "text/plain": [
       "IntSlider(value=2, description='Feixes (num_beams)', max=5, min=1)"
      ]
     },
     "metadata": {},
     "output_type": "display_data"
    },
    {
     "data": {
      "application/vnd.jupyter.widget-view+json": {
       "model_id": "582b9a5bed4d44eabcd8d518d90a3b36",
       "version_major": 2,
       "version_minor": 0
      },
      "text/plain": [
       "FloatSlider(value=0.9, description='Temperatura', max=1.5, min=0.5, step=0.05)"
      ]
     },
     "metadata": {},
     "output_type": "display_data"
    },
    {
     "data": {
      "application/vnd.jupyter.widget-view+json": {
       "model_id": "75341cf6428f4eb0841eccc3d3509971",
       "version_major": 2,
       "version_minor": 0
      },
      "text/plain": [
       "FloatSlider(value=0.9, description='Top P', max=1.0, min=0.5, step=0.05)"
      ]
     },
     "metadata": {},
     "output_type": "display_data"
    },
    {
     "data": {
      "application/vnd.jupyter.widget-view+json": {
       "model_id": "5cda2c174573410380decef943fbf3f7",
       "version_major": 2,
       "version_minor": 0
      },
      "text/plain": [
       "FloatSlider(value=1.8, description='Penalidade de repetição', max=3.0, min=1.0)"
      ]
     },
     "metadata": {},
     "output_type": "display_data"
    },
    {
     "data": {
      "application/vnd.jupyter.widget-view+json": {
       "model_id": "03c02baec4064131ad860c32167ad4e5",
       "version_major": 2,
       "version_minor": 0
      },
      "text/plain": [
       "IntSlider(value=3, description='Sem repetição de n-gramas', max=5, min=1)"
      ]
     },
     "metadata": {},
     "output_type": "display_data"
    },
    {
     "data": {
      "application/vnd.jupyter.widget-view+json": {
       "model_id": "d0647af1036b4518b8fcae17a579b229",
       "version_major": 2,
       "version_minor": 0
      },
      "text/plain": [
       "Button(button_style='success', description='Gerar descrição', style=ButtonStyle())"
      ]
     },
     "metadata": {},
     "output_type": "display_data"
    },
    {
     "data": {
      "application/vnd.jupyter.widget-view+json": {
       "model_id": "b3ac8e5b5e27412b8691554e092acf88",
       "version_major": 2,
       "version_minor": 0
      },
      "text/plain": [
       "Output()"
      ]
     },
     "metadata": {},
     "output_type": "display_data"
    }
   ],
   "source": [
    "title_input = widgets.Text(\n",
    "    value=\"GoFit Weightlifting Glove\",\n",
    "    description='Title:',\n",
    "    layout=widgets.Layout(width=\"600px\")\n",
    ")\n",
    "beams_slider = widgets.IntSlider(value=2, min=1, max=5, description='Feixes (num_beams)')\n",
    "temp_slider = widgets.FloatSlider(value=0.9, min=0.5, max=1.5, step=0.05, description='Temperatura')\n",
    "top_p_slider = widgets.FloatSlider(value=0.9, min=0.5, max=1.0, step=0.05, description='Top P')\n",
    "rep_slider = widgets.FloatSlider(value=1.8, min=1.0, max=3.0, step=0.1, description='Penalidade de repetição')\n",
    "norep_slider = widgets.IntSlider(value=3, min=1, max=5, description='Sem repetição de n-gramas')\n",
    "\n",
    "button = widgets.Button(description=\"Gerar descrição\", button_style='success')\n",
    "\n",
    "\n",
    "out_box = widgets.Output()\n",
    "\n",
    "def on_click(_):\n",
    "    with out_box:\n",
    "        out_box.clear_output()\n",
    "        desc = generate_description(\n",
    "            title_input.value,\n",
    "            beams_slider.value,\n",
    "            temp_slider.value,\n",
    "            top_p_slider.value,\n",
    "            rep_slider.value,\n",
    "            norep_slider.value\n",
    "        )\n",
    "        display(Markdown(f\"### 🧾 Description\\n{desc}\"))\n",
    "\n",
    "button.on_click(on_click)\n",
    "\n",
    "display(title_input, beams_slider, temp_slider, top_p_slider, rep_slider, norep_slider, button, out_box)"
   ]
  }
 ],
 "metadata": {
  "kernelspec": {
   "display_name": ".venv",
   "language": "python",
   "name": "python3"
  },
  "language_info": {
   "codemirror_mode": {
    "name": "ipython",
    "version": 3
   },
   "file_extension": ".py",
   "mimetype": "text/x-python",
   "name": "python",
   "nbconvert_exporter": "python",
   "pygments_lexer": "ipython3",
   "version": "3.13.3"
  }
 },
 "nbformat": 4,
 "nbformat_minor": 5
}
