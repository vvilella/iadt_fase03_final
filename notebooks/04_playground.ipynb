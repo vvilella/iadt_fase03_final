{
 "cells": [
  {
   "cell_type": "code",
   "execution_count": 3,
   "id": "906cfec0",
   "metadata": {},
   "outputs": [
    {
     "name": "stdout",
     "output_type": "stream",
     "text": [
      "Note: you may need to restart the kernel to use updated packages.\n",
      "mps\n"
     ]
    }
   ],
   "source": [
    "%pip install -q transformers peft ipywidgets torch\n",
    "\n",
    "import torch\n",
    "from transformers import AutoTokenizer, AutoModelForSeq2SeqLM\n",
    "from peft import PeftModel\n",
    "import ipywidgets as widgets\n",
    "from IPython.display import display, Markdown\n",
    "\n",
    "device = \"mps\" if torch.backends.mps.is_available() else \"cpu\"\n",
    "MODEL_NAME = \"google/flan-t5-base\"\n",
    "\n",
    "print(device)\n"
   ]
  },
  {
   "cell_type": "code",
   "execution_count": 4,
   "id": "ef865c4d",
   "metadata": {},
   "outputs": [
    {
     "name": "stdout",
     "output_type": "stream",
     "text": [
      "Modelo fine-tunado carregado\n"
     ]
    }
   ],
   "source": [
    "tok = AutoTokenizer.from_pretrained(MODEL_NAME)\n",
    "base = AutoModelForSeq2SeqLM.from_pretrained(MODEL_NAME).to(device)\n",
    "model = PeftModel.from_pretrained(base, \"../artifacts/t5_lora_best\").to(device)\n",
    "print(\"Modelo fine-tunado carregado\")\n"
   ]
  },
  {
   "cell_type": "code",
   "execution_count": 5,
   "id": "da8e7faa",
   "metadata": {},
   "outputs": [],
   "source": [
    "def generate_description(title, beams=2, temp=0.9, top_p=0.9, rep_penalty=1.8, no_repeat=3):\n",
    "    prompt = f\"Given a product title, generate its product description.\\nTitle: {title}\\nDescription:\"\n",
    "    enc = tok(prompt, return_tensors=\"pt\", truncation=True, max_length=128).to(device)\n",
    "    out = model.generate(\n",
    "        **enc,\n",
    "        max_new_tokens=224,\n",
    "        num_beams=beams,\n",
    "        temperature=temp,\n",
    "        top_p=top_p,\n",
    "        repetition_penalty=rep_penalty,\n",
    "        no_repeat_ngram_size=no_repeat,\n",
    "        do_sample=True,\n",
    "    )\n",
    "    return tok.decode(out[0], skip_special_tokens=True)"
   ]
  },
  {
   "cell_type": "code",
   "execution_count": 7,
   "id": "4e864f38",
   "metadata": {},
   "outputs": [
    {
     "data": {
      "application/vnd.jupyter.widget-view+json": {
       "model_id": "7da95b544aa54967b20c529724d57091",
       "version_major": 2,
       "version_minor": 0
      },
      "text/plain": [
       "Text(value='Apple Magic Keyboard with Touch ID', description='Title:', layout=Layout(width='600px'))"
      ]
     },
     "metadata": {},
     "output_type": "display_data"
    },
    {
     "data": {
      "application/vnd.jupyter.widget-view+json": {
       "model_id": "3aea211ddff840d5b9b47cd975fdff60",
       "version_major": 2,
       "version_minor": 0
      },
      "text/plain": [
       "IntSlider(value=2, description='Feixes (num_beams)', max=5, min=1)"
      ]
     },
     "metadata": {},
     "output_type": "display_data"
    },
    {
     "data": {
      "application/vnd.jupyter.widget-view+json": {
       "model_id": "8640acfa0b9548168da868622ce3701b",
       "version_major": 2,
       "version_minor": 0
      },
      "text/plain": [
       "FloatSlider(value=0.9, description='Temperatura', max=1.5, min=0.5, step=0.05)"
      ]
     },
     "metadata": {},
     "output_type": "display_data"
    },
    {
     "data": {
      "application/vnd.jupyter.widget-view+json": {
       "model_id": "9acd163fdc4e425fa893bacca5653727",
       "version_major": 2,
       "version_minor": 0
      },
      "text/plain": [
       "FloatSlider(value=0.9, description='Top P', max=1.0, min=0.5, step=0.05)"
      ]
     },
     "metadata": {},
     "output_type": "display_data"
    },
    {
     "data": {
      "application/vnd.jupyter.widget-view+json": {
       "model_id": "e3789f0892404e92baaf9ffb72d35946",
       "version_major": 2,
       "version_minor": 0
      },
      "text/plain": [
       "FloatSlider(value=1.8, description='Penalidade de repetição', max=3.0, min=1.0)"
      ]
     },
     "metadata": {},
     "output_type": "display_data"
    },
    {
     "data": {
      "application/vnd.jupyter.widget-view+json": {
       "model_id": "4ff848d1f67042649392e99725b2413f",
       "version_major": 2,
       "version_minor": 0
      },
      "text/plain": [
       "IntSlider(value=3, description='Sem repetição de n-gramas', max=5, min=1)"
      ]
     },
     "metadata": {},
     "output_type": "display_data"
    },
    {
     "data": {
      "application/vnd.jupyter.widget-view+json": {
       "model_id": "176c3f9827f6495fa5d0aa6d9a40bfaa",
       "version_major": 2,
       "version_minor": 0
      },
      "text/plain": [
       "Button(button_style='success', description='Gerar descrição', style=ButtonStyle())"
      ]
     },
     "metadata": {},
     "output_type": "display_data"
    },
    {
     "data": {
      "application/vnd.jupyter.widget-view+json": {
       "model_id": "83b77e95d9eb46cbafcbbe5a6a2aca52",
       "version_major": 2,
       "version_minor": 0
      },
      "text/plain": [
       "Output()"
      ]
     },
     "metadata": {},
     "output_type": "display_data"
    }
   ],
   "source": [
    "title_input = widgets.Text(\n",
    "    value=\"Apple Magic Keyboard with Touch ID\",\n",
    "    description='Title:',\n",
    "    layout=widgets.Layout(width=\"600px\")\n",
    ")\n",
    "beams_slider = widgets.IntSlider(value=2, min=1, max=5, description='Feixes (num_beams)')\n",
    "temp_slider = widgets.FloatSlider(value=0.9, min=0.5, max=1.5, step=0.05, description='Temperatura')\n",
    "top_p_slider = widgets.FloatSlider(value=0.9, min=0.5, max=1.0, step=0.05, description='Top P')\n",
    "rep_slider = widgets.FloatSlider(value=1.8, min=1.0, max=3.0, step=0.1, description='Penalidade de repetição')\n",
    "norep_slider = widgets.IntSlider(value=3, min=1, max=5, description='Sem repetição de n-gramas')\n",
    "\n",
    "button = widgets.Button(description=\"Gerar descrição\", button_style='success')\n",
    "\n",
    "\n",
    "out_box = widgets.Output()\n",
    "\n",
    "def on_click(_):\n",
    "    with out_box:\n",
    "        out_box.clear_output()\n",
    "        desc = generate_description(\n",
    "            title_input.value,\n",
    "            beams_slider.value,\n",
    "            temp_slider.value,\n",
    "            top_p_slider.value,\n",
    "            rep_slider.value,\n",
    "            norep_slider.value\n",
    "        )\n",
    "        display(Markdown(f\"### 🧾 Description\\n{desc}\"))\n",
    "\n",
    "button.on_click(on_click)\n",
    "\n",
    "display(title_input, beams_slider, temp_slider, top_p_slider, rep_slider, norep_slider, button, out_box)"
   ]
  },
  {
   "cell_type": "code",
   "execution_count": 1,
   "id": "3ef634d1",
   "metadata": {},
   "outputs": [
    {
     "data": {
      "text/markdown": [
       "### Exemplos de títulos para testar:"
      ],
      "text/plain": [
       "<IPython.core.display.Markdown object>"
      ]
     },
     "metadata": {},
     "output_type": "display_data"
    },
    {
     "data": {
      "text/markdown": [
       "- Nespresso Vertuo Next Coffee Machine"
      ],
      "text/plain": [
       "<IPython.core.display.Markdown object>"
      ]
     },
     "metadata": {},
     "output_type": "display_data"
    },
    {
     "data": {
      "text/markdown": [
       "- Sony WH-1000XM5 Noise Cancelling Headphones"
      ],
      "text/plain": [
       "<IPython.core.display.Markdown object>"
      ]
     },
     "metadata": {},
     "output_type": "display_data"
    },
    {
     "data": {
      "text/markdown": [
       "- Nike Air Zoom Pegasus 40 Running Shoes"
      ],
      "text/plain": [
       "<IPython.core.display.Markdown object>"
      ]
     },
     "metadata": {},
     "output_type": "display_data"
    },
    {
     "data": {
      "text/markdown": [
       "- Olaplex No.3 Hair Perfector"
      ],
      "text/plain": [
       "<IPython.core.display.Markdown object>"
      ]
     },
     "metadata": {},
     "output_type": "display_data"
    },
    {
     "data": {
      "text/markdown": [
       "- Garmin Forerunner 255 GPS Watch"
      ],
      "text/plain": [
       "<IPython.core.display.Markdown object>"
      ]
     },
     "metadata": {},
     "output_type": "display_data"
    }
   ],
   "source": [
    "examples = [\n",
    "    \"Nespresso Vertuo Next Coffee Machine\",\n",
    "    \"Sony WH-1000XM5 Noise Cancelling Headphones\",\n",
    "    \"Nike Air Zoom Pegasus 40 Running Shoes\",\n",
    "    \"Olaplex No.3 Hair Perfector\",\n",
    "    \"Garmin Forerunner 255 GPS Watch\"\n",
    "]\n",
    "\n",
    "def show_examples():\n",
    "    from IPython.display import Markdown, display\n",
    "    display(Markdown(\"### Exemplos de títulos para testar:\"))\n",
    "    for e in examples:\n",
    "        display(Markdown(f\"- {e}\"))\n",
    "\n",
    "show_examples()\n"
   ]
  }
 ],
 "metadata": {
  "kernelspec": {
   "display_name": ".venv",
   "language": "python",
   "name": "python3"
  },
  "language_info": {
   "codemirror_mode": {
    "name": "ipython",
    "version": 3
   },
   "file_extension": ".py",
   "mimetype": "text/x-python",
   "name": "python",
   "nbconvert_exporter": "python",
   "pygments_lexer": "ipython3",
   "version": "3.13.3"
  }
 },
 "nbformat": 4,
 "nbformat_minor": 5
}
