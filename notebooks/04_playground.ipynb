{
 "cells": [
  {
   "cell_type": "code",
   "execution_count": 4,
   "id": "906cfec0",
   "metadata": {},
   "outputs": [
    {
     "name": "stdout",
     "output_type": "stream",
     "text": [
      "Note: you may need to restart the kernel to use updated packages.\n",
      "mps\n"
     ]
    }
   ],
   "source": [
    "%pip install -q transformers peft ipywidgets torch\n",
    "\n",
    "import torch\n",
    "from transformers import AutoTokenizer, AutoModelForSeq2SeqLM\n",
    "from peft import PeftModel\n",
    "import ipywidgets as widgets\n",
    "from IPython.display import display, Markdown\n",
    "\n",
    "device = \"mps\" if torch.backends.mps.is_available() else \"cpu\"\n",
    "MODEL_NAME = \"google/flan-t5-base\"\n",
    "\n",
    "print(device)\n"
   ]
  },
  {
   "cell_type": "code",
   "execution_count": 5,
   "id": "ef865c4d",
   "metadata": {},
   "outputs": [
    {
     "name": "stdout",
     "output_type": "stream",
     "text": [
      "Modelo fine-tunado carregado\n"
     ]
    }
   ],
   "source": [
    "tok = AutoTokenizer.from_pretrained(MODEL_NAME)\n",
    "base = AutoModelForSeq2SeqLM.from_pretrained(MODEL_NAME).to(device)\n",
    "model = PeftModel.from_pretrained(base, \"../artifacts/t5_lora_best\").to(device)\n",
    "print(\"Modelo fine-tunado carregado\")\n"
   ]
  },
  {
   "cell_type": "code",
   "execution_count": 6,
   "id": "da8e7faa",
   "metadata": {},
   "outputs": [],
   "source": [
    "def generate_description(title, beams=2, temp=0.9, top_p=0.9, rep_penalty=1.8, no_repeat=3):\n",
    "    prompt = f\"Given a product title, generate its product description.\\nTitle: {title}\\nDescription:\"\n",
    "    enc = tok(prompt, return_tensors=\"pt\", truncation=True, max_length=128).to(device)\n",
    "    out = model.generate(\n",
    "        **enc,\n",
    "        max_new_tokens=224,\n",
    "        num_beams=beams,\n",
    "        temperature=temp,\n",
    "        top_p=top_p,\n",
    "        repetition_penalty=rep_penalty,\n",
    "        no_repeat_ngram_size=no_repeat,\n",
    "        do_sample=True,\n",
    "    )\n",
    "    return tok.decode(out[0], skip_special_tokens=True)"
   ]
  },
  {
   "cell_type": "code",
   "execution_count": 7,
   "id": "4e864f38",
   "metadata": {},
   "outputs": [
    {
     "data": {
      "application/vnd.jupyter.widget-view+json": {
       "model_id": "23111d8185fd475eb6ac572760fafcc5",
       "version_major": 2,
       "version_minor": 0
      },
      "text/plain": [
       "Text(value='GoFit Weightlifting Glove', description='Title:', layout=Layout(width='600px'))"
      ]
     },
     "metadata": {},
     "output_type": "display_data"
    },
    {
     "data": {
      "application/vnd.jupyter.widget-view+json": {
       "model_id": "1c8b9f12d3224079b87f3d390cbe4591",
       "version_major": 2,
       "version_minor": 0
      },
      "text/plain": [
       "IntSlider(value=2, description='num_beams', max=5, min=1)"
      ]
     },
     "metadata": {},
     "output_type": "display_data"
    },
    {
     "data": {
      "application/vnd.jupyter.widget-view+json": {
       "model_id": "9ca29c85212e4e0d9e8578da60bf4f17",
       "version_major": 2,
       "version_minor": 0
      },
      "text/plain": [
       "FloatSlider(value=0.9, description='temperature', max=1.5, min=0.5, step=0.05)"
      ]
     },
     "metadata": {},
     "output_type": "display_data"
    },
    {
     "data": {
      "application/vnd.jupyter.widget-view+json": {
       "model_id": "99f32c269b584a8dae8f242fe385ab07",
       "version_major": 2,
       "version_minor": 0
      },
      "text/plain": [
       "FloatSlider(value=0.9, description='top_p', max=1.0, min=0.5, step=0.05)"
      ]
     },
     "metadata": {},
     "output_type": "display_data"
    },
    {
     "data": {
      "application/vnd.jupyter.widget-view+json": {
       "model_id": "5216802df82b433982a7d68c29678ccb",
       "version_major": 2,
       "version_minor": 0
      },
      "text/plain": [
       "FloatSlider(value=1.8, description='repetition_penalty', max=3.0, min=1.0)"
      ]
     },
     "metadata": {},
     "output_type": "display_data"
    },
    {
     "data": {
      "application/vnd.jupyter.widget-view+json": {
       "model_id": "f5b5824ee76f47278f04472e6ae384c5",
       "version_major": 2,
       "version_minor": 0
      },
      "text/plain": [
       "IntSlider(value=3, description='no_repeat_ngram', max=5, min=1)"
      ]
     },
     "metadata": {},
     "output_type": "display_data"
    },
    {
     "data": {
      "application/vnd.jupyter.widget-view+json": {
       "model_id": "92cd6357f34c47a6b6e8ef3bab1034d9",
       "version_major": 2,
       "version_minor": 0
      },
      "text/plain": [
       "Button(button_style='success', description='Generate', style=ButtonStyle())"
      ]
     },
     "metadata": {},
     "output_type": "display_data"
    },
    {
     "data": {
      "application/vnd.jupyter.widget-view+json": {
       "model_id": "ba0d9062c08a4f7484c0577b1bb5eca0",
       "version_major": 2,
       "version_minor": 0
      },
      "text/plain": [
       "Output()"
      ]
     },
     "metadata": {},
     "output_type": "display_data"
    }
   ],
   "source": [
    "title_input = widgets.Text(\n",
    "    value=\"GoFit Weightlifting Glove\",\n",
    "    description='Title:',\n",
    "    layout=widgets.Layout(width=\"600px\")\n",
    ")\n",
    "beams_slider = widgets.IntSlider(value=2, min=1, max=5, description='num_beams')\n",
    "temp_slider = widgets.FloatSlider(value=0.9, min=0.5, max=1.5, step=0.05, description='temperature')\n",
    "top_p_slider = widgets.FloatSlider(value=0.9, min=0.5, max=1.0, step=0.05, description='top_p')\n",
    "rep_slider = widgets.FloatSlider(value=1.8, min=1.0, max=3.0, step=0.1, description='repetition_penalty')\n",
    "norep_slider = widgets.IntSlider(value=3, min=1, max=5, description='no_repeat_ngram')\n",
    "\n",
    "button = widgets.Button(description=\"Generate\", button_style='success')\n",
    "\n",
    "out_box = widgets.Output()\n",
    "\n",
    "def on_click(_):\n",
    "    with out_box:\n",
    "        out_box.clear_output()\n",
    "        desc = generate_description(\n",
    "            title_input.value,\n",
    "            beams_slider.value,\n",
    "            temp_slider.value,\n",
    "            top_p_slider.value,\n",
    "            rep_slider.value,\n",
    "            norep_slider.value\n",
    "        )\n",
    "        display(Markdown(f\"### 🧾 Description\\n{desc}\"))\n",
    "\n",
    "button.on_click(on_click)\n",
    "\n",
    "display(title_input, beams_slider, temp_slider, top_p_slider, rep_slider, norep_slider, button, out_box)"
   ]
  }
 ],
 "metadata": {
  "kernelspec": {
   "display_name": ".venv",
   "language": "python",
   "name": "python3"
  },
  "language_info": {
   "codemirror_mode": {
    "name": "ipython",
    "version": 3
   },
   "file_extension": ".py",
   "mimetype": "text/x-python",
   "name": "python",
   "nbconvert_exporter": "python",
   "pygments_lexer": "ipython3",
   "version": "3.13.3"
  }
 },
 "nbformat": 4,
 "nbformat_minor": 5
}
